{
 "cells": [
  {
   "cell_type": "code",
   "execution_count": 2,
   "metadata": {},
   "outputs": [],
   "source": [
    "import pandas as pd\n",
    "import numpy as np"
   ]
  },
  {
   "cell_type": "code",
   "execution_count": 10,
   "metadata": {},
   "outputs": [],
   "source": [
    "# load data of 39 buildings\n",
    "df = pd.read_csv('./USD_CNY历史数据-2.csv')\n",
    "building_names = df.columns[1:]\n",
    "load = []\n",
    "for name in building_names:\n",
    "    load.append(df[name].values)\n",
    "load = np.array(load)\n",
    "\n",
    "# choose one building\n",
    "data_nor = load[0][::-1] \n",
    "\n",
    "# use max-min normalizaion\n",
    "# maxval = np.max(data_ori)\n",
    "# minval = np.min(data_ori)\n",
    "# data_nor = list(map(lambda x: (x - minval) / (maxval - minval), data_ori))"
   ]
  },
  {
   "cell_type": "code",
   "execution_count": 11,
   "metadata": {},
   "outputs": [],
   "source": [
    "# parameters:\n",
    "ifs = 1000   # input feature size = 1\n",
    "hfs = 30  # hidden feature size = 10\n",
    "pfs = 365   # predict feature size = 1\n",
    "mbs = 1"
   ]
  },
  {
   "cell_type": "code",
   "execution_count": 12,
   "metadata": {},
   "outputs": [],
   "source": [
    "def multi_pred_navie_dataset(ratio=0.7):\n",
    "    data_X = []\n",
    "    data_Y = []\n",
    "    \n",
    "    for i in range(len(data_nor)-ifs-pfs):\n",
    "        data_X.append(data_ori[i:i+ifs])\n",
    "        data_Y.append(data_ori[i+ifs:i+ifs+pfs])\n",
    "    \n",
    "    train_size = int(len(data_X) * ratio)\n",
    "    train_r = train_size - (train_size % mbs)\n",
    "    \n",
    "    test_size = len(data_X) - train_r\n",
    "    test_r = test_size - (test_size % mbs) + train_r\n",
    "        \n",
    "    train_X = data_X[: train_r]\n",
    "    train_Y = data_Y[: train_r]\n",
    "    test_X = data_X[train_r : test_r]\n",
    "    test_Y = data_Y[train_r : test_r]\n",
    "    \n",
    "    return [\n",
    "        np.array(train_X).astype(np.float32),\n",
    "        np.array(train_Y).astype(np.float32),\n",
    "        np.array(test_X).astype(np.float32), \n",
    "        np.array(test_Y).astype(np.float32)\n",
    "    ]"
   ]
  },
  {
   "cell_type": "code",
   "execution_count": 13,
   "metadata": {},
   "outputs": [
    {
     "data": {
      "text/plain": [
       "((355, 1000), (355, 365))"
      ]
     },
     "execution_count": 13,
     "metadata": {},
     "output_type": "execute_result"
    }
   ],
   "source": [
    "[train_X, train_Y, test_X, test_Y] = multi_pred_navie_dataset(0.2)\n",
    "train_X.shape, train_Y.shape"
   ]
  },
  {
   "cell_type": "code",
   "execution_count": 14,
   "metadata": {},
   "outputs": [],
   "source": [
    "import torch\n",
    "import torch.autograd as autograd\n",
    "import torch.nn as nn\n",
    "from torch.autograd import Variable"
   ]
  },
  {
   "cell_type": "code",
   "execution_count": 15,
   "metadata": {},
   "outputs": [],
   "source": [
    "class lstm(nn.Module):\n",
    "    def __init__(self, input_size=24, hidden_size=30, output_size=24, num_layer=1):\n",
    "        super(lstm, self).__init__()\n",
    "        self.hidden_size = hidden_size\n",
    "        self.num_layer = num_layer\n",
    "        self.lstm = nn.LSTM(input_size, hidden_size, num_layer)\n",
    "        self.hidden = self.init_hidden()\n",
    "        self.hidden2pred = nn.Linear(hidden_size, output_size) \n",
    "        \n",
    "    def init_hidden(self):\n",
    "        h0 = autograd.Variable(torch.zeros(self.num_layer, mbs, self.hidden_size)).cuda()\n",
    "        c0 = autograd.Variable(torch.zeros(self.num_layer, mbs, self.hidden_size)).cuda()\n",
    "        return (h0, c0)\n",
    "        \n",
    "    def forward(self, x):\n",
    "        lstm_out, self.hidden = self.lstm(x, self.hidden)\n",
    "        x, y, z = lstm_out.size()\n",
    "        output = self.hidden2pred(lstm_out.view(x * y, z))\n",
    "        return output.view(x, y, -1)"
   ]
  },
  {
   "cell_type": "code",
   "execution_count": 16,
   "metadata": {},
   "outputs": [],
   "source": [
    "[train_X, train_Y, test_X, test_Y] = multi_pred_navie_dataset(0.2)"
   ]
  },
  {
   "cell_type": "code",
   "execution_count": 17,
   "metadata": {},
   "outputs": [],
   "source": [
    "import torch\n",
    "import torch.autograd as autograd\n",
    "import torch.nn as nn\n",
    "from torch.autograd import Variable"
   ]
  },
  {
   "cell_type": "code",
   "execution_count": 18,
   "metadata": {},
   "outputs": [],
   "source": [
    "class lstm(nn.Module):\n",
    "    def __init__(self, input_size=1000, hidden_size=30, output_size=365, num_layer=1):\n",
    "        super(lstm, self).__init__()\n",
    "        self.hidden_size = hidden_size\n",
    "        self.num_layer = num_layer\n",
    "        self.lstm = nn.LSTM(input_size, hidden_size, num_layer)\n",
    "        self.hidden = self.init_hidden()\n",
    "        self.hidden2pred = nn.Linear(hidden_size, output_size) \n",
    "        \n",
    "    def init_hidden(self):\n",
    "        h0 = autograd.Variable(torch.zeros(self.num_layer, mbs, self.hidden_size)).cuda()\n",
    "        c0 = autograd.Variable(torch.zeros(self.num_layer, mbs, self.hidden_size)).cuda()\n",
    "        return (h0, c0)\n",
    "        \n",
    "    def forward(self, x):\n",
    "        lstm_out, _ = self.lstm(x, self.hidden)\n",
    "        x, y, z = lstm_out.size()\n",
    "        output = self.hidden2pred(lstm_out.view(x * y, z))\n",
    "        return output.view(x, y, -1)"
   ]
  },
  {
   "cell_type": "code",
   "execution_count": 19,
   "metadata": {},
   "outputs": [],
   "source": [
    "model = lstm().cuda()\n",
    "criterion = nn.MSELoss()\n",
    "optimizer = torch.optim.Adam(model.parameters(), lr=1e-2)"
   ]
  },
  {
   "cell_type": "code",
   "execution_count": 20,
   "metadata": {},
   "outputs": [],
   "source": [
    "train_x = torch.from_numpy(train_X).view(-1, mbs, ifs).cuda()\n",
    "train_y = torch.from_numpy(train_Y).view(-1, mbs,pfs).cuda()\n",
    "test_x = torch.from_numpy(test_X).view(-1, mbs, ifs).cuda()\n",
    "test_y = torch.from_numpy(test_Y).view(-1, mbs, pfs).cuda()"
   ]
  },
  {
   "cell_type": "code",
   "execution_count": 21,
   "metadata": {},
   "outputs": [
    {
     "name": "stdout",
     "output_type": "stream",
     "text": [
      "Epoch: 50, Loss: 2.73708\n",
      "Epoch: 100, Loss: 0.01502\n",
      "Epoch: 150, Loss: 0.00837\n",
      "Epoch: 200, Loss: 0.00830\n",
      "Epoch: 250, Loss: 0.00830\n",
      "Epoch: 300, Loss: 0.00830\n",
      "Epoch: 350, Loss: 0.00830\n",
      "Epoch: 400, Loss: 0.00830\n",
      "Epoch: 450, Loss: 0.00830\n",
      "Epoch: 500, Loss: 0.00830\n",
      "Epoch: 550, Loss: 0.00830\n",
      "Epoch: 600, Loss: 0.00829\n",
      "Epoch: 650, Loss: 0.00829\n",
      "Epoch: 700, Loss: 0.00829\n",
      "Epoch: 750, Loss: 0.00829\n",
      "Epoch: 800, Loss: 0.00829\n",
      "CPU times: user 7.33 s, sys: 46.9 ms, total: 7.38 s\n",
      "Wall time: 7.36 s\n"
     ]
    }
   ],
   "source": [
    "%%time\n",
    "for e in range(800):\n",
    "    var_x = Variable(train_x)\n",
    "    var_y = Variable(train_y)\n",
    "    \n",
    "    out = model(var_x)\n",
    "    loss = criterion(out, var_y)\n",
    "\n",
    "    optimizer.zero_grad()\n",
    "    loss.backward(retain_graph=True)\n",
    "    optimizer.step()\n",
    "    \n",
    "    if (e + 1) % 50 == 0:\n",
    "        print('Epoch: {}, Loss: {:.5f}'.format(e + 1, loss.item()))"
   ]
  },
  {
   "cell_type": "code",
   "execution_count": 22,
   "metadata": {},
   "outputs": [],
   "source": [
    "import matplotlib.pyplot as plt"
   ]
  },
  {
   "cell_type": "code",
   "execution_count": 44,
   "metadata": {},
   "outputs": [
    {
     "data": {
      "text/plain": [
       "torch.Size([1424, 1, 365])"
      ]
     },
     "execution_count": 44,
     "metadata": {},
     "output_type": "execute_result"
    }
   ],
   "source": [
    "model = model.eval()\n",
    "pred_tensor = model(test_x)\n",
    "pred_tensor.shape"
   ]
  },
  {
   "cell_type": "code",
   "execution_count": 48,
   "metadata": {},
   "outputs": [
    {
     "data": {
      "text/plain": [
       "torch.Size([1, 365])"
      ]
     },
     "execution_count": 48,
     "metadata": {},
     "output_type": "execute_result"
    }
   ],
   "source": [
    "pred_newest = pred_tensor[1423]\n",
    "pred_newest.shape"
   ]
  },
  {
   "cell_type": "code",
   "execution_count": 50,
   "metadata": {},
   "outputs": [
    {
     "data": {
      "text/plain": [
       "tensor([[6.1869, 6.1861, 6.1852, 6.1845, 6.1834, 6.1827, 6.1819, 6.1810, 6.1801,\n",
       "         6.1793, 6.1783, 6.1777, 6.1768, 6.1761, 6.1750, 6.1742, 6.1734, 6.1726,\n",
       "         6.1717, 6.1708, 6.1701, 6.1694, 6.1686, 6.1679, 6.1670, 6.1663, 6.1656,\n",
       "         6.1650, 6.1644, 6.1637, 6.1629, 6.1622, 6.1616, 6.1609, 6.1603, 6.1599,\n",
       "         6.1591, 6.1586, 6.1578, 6.1573, 6.1567, 6.1563, 6.1557, 6.1553, 6.1548,\n",
       "         6.1544, 6.1541, 6.1538, 6.1537, 6.1531, 6.1528, 6.1525, 6.1523, 6.1520,\n",
       "         6.1515, 6.1515, 6.1509, 6.1508, 6.1507, 6.1505, 6.1503, 6.1503, 6.1502,\n",
       "         6.1501, 6.1501, 6.1499, 6.1498, 6.1499, 6.1499, 6.1496, 6.1497, 6.1497,\n",
       "         6.1496, 6.1496, 6.1495, 6.1493, 6.1493, 6.1494, 6.1493, 6.1493, 6.1493,\n",
       "         6.1494, 6.1493, 6.1492, 6.1492, 6.1490, 6.1491, 6.1492, 6.1492, 6.1493,\n",
       "         6.1494, 6.1496, 6.1496, 6.1497, 6.1495, 6.1494, 6.1496, 6.1496, 6.1495,\n",
       "         6.1496, 6.1497, 6.1495, 6.1497, 6.1495, 6.1496, 6.1497, 6.1497, 6.1497,\n",
       "         6.1498, 6.1499, 6.1500, 6.1501, 6.1502, 6.1502, 6.1504, 6.1504, 6.1506,\n",
       "         6.1505, 6.1507, 6.1506, 6.1507, 6.1506, 6.1506, 6.1506, 6.1506, 6.1506,\n",
       "         6.1506, 6.1505, 6.1506, 6.1504, 6.1506, 6.1504, 6.1506, 6.1504, 6.1503,\n",
       "         6.1501, 6.1499, 6.1500, 6.1500, 6.1498, 6.1500, 6.1500, 6.1497, 6.1496,\n",
       "         6.1496, 6.1495, 6.1495, 6.1495, 6.1493, 6.1495, 6.1495, 6.1493, 6.1493,\n",
       "         6.1492, 6.1492, 6.1490, 6.1489, 6.1489, 6.1486, 6.1485, 6.1485, 6.1483,\n",
       "         6.1481, 6.1480, 6.1478, 6.1478, 6.1476, 6.1475, 6.1473, 6.1472, 6.1469,\n",
       "         6.1470, 6.1466, 6.1467, 6.1467, 6.1465, 6.1463, 6.1461, 6.1460, 6.1460,\n",
       "         6.1460, 6.1458, 6.1459, 6.1456, 6.1456, 6.1457, 6.1455, 6.1455, 6.1453,\n",
       "         6.1454, 6.1453, 6.1454, 6.1454, 6.1453, 6.1454, 6.1451, 6.1453, 6.1452,\n",
       "         6.1453, 6.1451, 6.1453, 6.1454, 6.1453, 6.1455, 6.1454, 6.1453, 6.1453,\n",
       "         6.1453, 6.1453, 6.1454, 6.1454, 6.1453, 6.1453, 6.1454, 6.1452, 6.1452,\n",
       "         6.1453, 6.1452, 6.1451, 6.1450, 6.1451, 6.1449, 6.1449, 6.1448, 6.1447,\n",
       "         6.1448, 6.1446, 6.1447, 6.1446, 6.1443, 6.1443, 6.1444, 6.1443, 6.1444,\n",
       "         6.1444, 6.1444, 6.1442, 6.1442, 6.1443, 6.1443, 6.1444, 6.1444, 6.1442,\n",
       "         6.1444, 6.1444, 6.1445, 6.1444, 6.1446, 6.1447, 6.1449, 6.1450, 6.1450,\n",
       "         6.1454, 6.1454, 6.1456, 6.1459, 6.1461, 6.1463, 6.1467, 6.1469, 6.1472,\n",
       "         6.1476, 6.1478, 6.1481, 6.1482, 6.1486, 6.1488, 6.1490, 6.1494, 6.1494,\n",
       "         6.1498, 6.1501, 6.1504, 6.1507, 6.1508, 6.1509, 6.1511, 6.1515, 6.1516,\n",
       "         6.1520, 6.1522, 6.1525, 6.1529, 6.1532, 6.1535, 6.1538, 6.1542, 6.1546,\n",
       "         6.1550, 6.1554, 6.1559, 6.1562, 6.1563, 6.1568, 6.1571, 6.1574, 6.1577,\n",
       "         6.1583, 6.1585, 6.1589, 6.1592, 6.1594, 6.1600, 6.1605, 6.1608, 6.1614,\n",
       "         6.1619, 6.1622, 6.1628, 6.1632, 6.1638, 6.1644, 6.1649, 6.1654, 6.1659,\n",
       "         6.1664, 6.1667, 6.1673, 6.1678, 6.1682, 6.1684, 6.1689, 6.1692, 6.1696,\n",
       "         6.1698, 6.1701, 6.1705, 6.1709, 6.1712, 6.1714, 6.1719, 6.1721, 6.1724,\n",
       "         6.1726, 6.1728, 6.1732, 6.1734, 6.1737, 6.1740, 6.1746, 6.1748, 6.1751,\n",
       "         6.1754, 6.1760, 6.1764, 6.1766, 6.1770, 6.1773, 6.1777, 6.1782, 6.1783,\n",
       "         6.1789, 6.1793, 6.1797, 6.1798, 6.1804, 6.1805, 6.1811, 6.1814, 6.1820,\n",
       "         6.1823, 6.1829, 6.1831, 6.1836, 6.1841]], device='cuda:0',\n",
       "       grad_fn=<SelectBackward>)"
      ]
     },
     "execution_count": 50,
     "metadata": {},
     "output_type": "execute_result"
    }
   ],
   "source": [
    "pred_newest"
   ]
  },
  {
   "cell_type": "code",
   "execution_count": 61,
   "metadata": {},
   "outputs": [],
   "source": [
    "pred_tensor_p = pred_newest[0].cpu().detach().numpy()\n",
    "fileout = pd.DataFrame(data=pred_tensor_p)\n",
    "fileout.to_csv(\"out.csv\")"
   ]
  },
  {
   "cell_type": "code",
   "execution_count": 38,
   "metadata": {},
   "outputs": [
    {
     "data": {
      "text/plain": [
       "(133225,)"
      ]
     },
     "execution_count": 38,
     "metadata": {},
     "output_type": "execute_result"
    }
   ],
   "source": [
    "pred_p = np.array(pred_tensor_p).reshape(-1)\n",
    "pred_p.shape"
   ]
  },
  {
   "cell_type": "code",
   "execution_count": 39,
   "metadata": {},
   "outputs": [],
   "source": [
    "test_y = torch.from_numpy(test_Y).view(-1, mbs, pfs).cuda()\n",
    "test_y_p = [test_y[i].cpu().detach().numpy() for i in range(365)]"
   ]
  },
  {
   "cell_type": "code",
   "execution_count": 41,
   "metadata": {},
   "outputs": [
    {
     "data": {
      "text/plain": [
       "(133225,)"
      ]
     },
     "execution_count": 41,
     "metadata": {},
     "output_type": "execute_result"
    }
   ],
   "source": [
    "real_p = np.array(test_y_p).reshape(-1)\n",
    "real_p.shape"
   ]
  },
  {
   "cell_type": "code",
   "execution_count": 35,
   "metadata": {},
   "outputs": [
    {
     "name": "stdout",
     "output_type": "stream",
     "text": [
      "[[0.00729416 0.00722716 0.00701714 0.00734658 0.00686804 0.00714543\n",
      "  0.00718439 0.00725807 0.00698497 0.00710954 0.00695031 0.00733246\n",
      "  0.00712837 0.00747232 0.00707078 0.00709731 0.0072021  0.00726989\n",
      "  0.00700724 0.00682982 0.00695054 0.00722532 0.00704058 0.00727871\n",
      "  0.00699838 0.0069391  0.00691413 0.0072174  0.00753926 0.00757126\n",
      "  0.00717528 0.0072602  0.00729644 0.00715244 0.00719683 0.00773632\n",
      "  0.00740555 0.0075743  0.00741833 0.00753303 0.00771111 0.0078888\n",
      "  0.00764088 0.00805966 0.00778869 0.00773773 0.00770339 0.00782616\n",
      "  0.00819968 0.00763354 0.00779109 0.00774995 0.00814003 0.00813757\n",
      "  0.00777432 0.00830622 0.00773368 0.00797661 0.00831412 0.00801441\n",
      "  0.00801816 0.00811295 0.00801528 0.00786056 0.0080646  0.00768739\n",
      "  0.00776476 0.00802218 0.00813369 0.00765847 0.00805421 0.00810449\n",
      "  0.00814495 0.0080802  0.00810235 0.0078843  0.00800483 0.00820242\n",
      "  0.00809829 0.00810542 0.00805796 0.00832197 0.008138   0.00808374\n",
      "  0.00825085 0.00787699 0.00804628 0.00807192 0.00790316 0.00795869\n",
      "  0.00813815 0.00836223 0.00808329 0.00829503 0.00796052 0.00774926\n",
      "  0.00816895 0.00813488 0.00790497 0.00816163 0.00832962 0.007892\n",
      "  0.00834249 0.00774493 0.00807194 0.00820899 0.00798337 0.00800185\n",
      "  0.00808663 0.0080343  0.00808018 0.00811662 0.00803407 0.00796655\n",
      "  0.00806785 0.00802048 0.00816526 0.00782839 0.0079583  0.00778837\n",
      "  0.00802366 0.0078596  0.00794003 0.00789668 0.00791064 0.00804662\n",
      "  0.00793344 0.00778169 0.00800277 0.00773869 0.00798698 0.00777777\n",
      "  0.0083177  0.00801828 0.0080045  0.00778224 0.0076745  0.00800341\n",
      "  0.00807233 0.00782085 0.00847589 0.0085823  0.00804353 0.00806632\n",
      "  0.00814148 0.00796244 0.00811278 0.00799845 0.00771687 0.00827378\n",
      "  0.00824815 0.00806164 0.008102   0.00818351 0.00835625 0.00819925\n",
      "  0.00816224 0.00839347 0.00797721 0.00808629 0.00826752 0.00822075\n",
      "  0.00813736 0.00822319 0.00806894 0.00825453 0.00830738 0.00834889\n",
      "  0.00820745 0.00846615 0.00811905 0.0086094  0.00808796 0.0085046\n",
      "  0.00870257 0.00841675 0.00819695 0.00806133 0.00803606 0.00813843\n",
      "  0.00838606 0.00824449 0.00857398 0.00816305 0.00815762 0.00858483\n",
      "  0.00849794 0.00857528 0.00815532 0.0085035  0.00833477 0.00847528\n",
      "  0.00858205 0.00835921 0.00848388 0.00800681 0.00834499 0.00829817\n",
      "  0.00852909 0.00810274 0.00848339 0.0085367  0.00828967 0.0085688\n",
      "  0.00826435 0.00799745 0.00805711 0.0079886  0.0081643  0.00821335\n",
      "  0.00842053 0.00825878 0.00828566 0.00859702 0.00827662 0.00836184\n",
      "  0.00855531 0.00839732 0.00818985 0.008183   0.00843531 0.00825824\n",
      "  0.00840352 0.00823512 0.0083228  0.00856542 0.00833264 0.00882057\n",
      "  0.00857927 0.00809439 0.00812685 0.0081647  0.00812271 0.00836162\n",
      "  0.00848694 0.00855822 0.00811489 0.00815787 0.00847032 0.00837706\n",
      "  0.00872012 0.00869948 0.00817752 0.00855039 0.00832823 0.00855763\n",
      "  0.00816161 0.00850889 0.00858017 0.0085515  0.00846297 0.00818331\n",
      "  0.00851995 0.0080685  0.00814902 0.00845873 0.00827871 0.00800016\n",
      "  0.00824937 0.00808922 0.0079798  0.00839312 0.00829216 0.00826124\n",
      "  0.00796175 0.00830935 0.00818828 0.00806723 0.00833017 0.00787274\n",
      "  0.00815301 0.00805439 0.00814193 0.00832941 0.00817867 0.00785704\n",
      "  0.00780044 0.00813628 0.00763602 0.00795386 0.00776479 0.00804488\n",
      "  0.00807504 0.00798054 0.00778072 0.00762323 0.00783897 0.00778704\n",
      "  0.00776933 0.00788089 0.0080341  0.00786259 0.0073635  0.00765642\n",
      "  0.0076065  0.00753675 0.00737528 0.0078804  0.00762756 0.00770268\n",
      "  0.00736793 0.00705379 0.00742393 0.00753832 0.00737642 0.00764486\n",
      "  0.00761249 0.00729016 0.00751777 0.00715631 0.00738107 0.00749537\n",
      "  0.00747253 0.00749149 0.00739762 0.00754069 0.00716528 0.0075058\n",
      "  0.00740758 0.00742376 0.0070568  0.00745337 0.00727943 0.00744245\n",
      "  0.00722456 0.00720997 0.00717662 0.00730371 0.00725572 0.00716594\n",
      "  0.00763991 0.00727716 0.00722884 0.00706622 0.0068254  0.00704777\n",
      "  0.00686233 0.00683648 0.0067204  0.00729143 0.00698722 0.00694735\n",
      "  0.00695339 0.00742967 0.0074553  0.00706748 0.00734516 0.00721365\n",
      "  0.00716517 0.00735442 0.00680561 0.00739847 0.00740497 0.00742164\n",
      "  0.00678119 0.00739543 0.00679968 0.00710605 0.00692937 0.00729681\n",
      "  0.00704534 0.00737948 0.00685088 0.00703731 0.00710016]]\n"
     ]
    }
   ],
   "source": [
    "diff = []\n",
    "for i in range(364):\n",
    "    diff.append((real_p[i] - pred_p[i])**2)\n",
    "print(sum(diff) / len(diff))"
   ]
  },
  {
   "cell_type": "code",
   "execution_count": 36,
   "metadata": {},
   "outputs": [
    {
     "data": {
      "text/plain": [
       "array([6.0747, 6.0686, 6.0617, ..., 6.6716, 6.7074, 6.722 ], dtype=float32)"
      ]
     },
     "execution_count": 36,
     "metadata": {},
     "output_type": "execute_result"
    }
   ],
   "source": [
    "real_p"
   ]
  },
  {
   "cell_type": "code",
   "execution_count": 37,
   "metadata": {},
   "outputs": [
    {
     "ename": "ValueError",
     "evalue": "x and y can be no greater than 2-D, but have shapes (365,) and (365, 1, 365)",
     "output_type": "error",
     "traceback": [
      "\u001b[0;31m---------------------------------------------------------------------------\u001b[0m",
      "\u001b[0;31mValueError\u001b[0m                                Traceback (most recent call last)",
      "\u001b[0;32m<ipython-input-37-fa75d88e02b8>\u001b[0m in \u001b[0;36m<module>\u001b[0;34m\u001b[0m\n\u001b[1;32m      1\u001b[0m \u001b[0mplt\u001b[0m\u001b[0;34m.\u001b[0m\u001b[0mfigure\u001b[0m\u001b[0;34m(\u001b[0m\u001b[0mfigsize\u001b[0m\u001b[0;34m=\u001b[0m\u001b[0;34m(\u001b[0m\u001b[0;36m18\u001b[0m\u001b[0;34m,\u001b[0m \u001b[0;36m10\u001b[0m\u001b[0;34m)\u001b[0m\u001b[0;34m)\u001b[0m\u001b[0;34m\u001b[0m\u001b[0;34m\u001b[0m\u001b[0m\n\u001b[1;32m      2\u001b[0m \u001b[0mplt\u001b[0m\u001b[0;34m.\u001b[0m\u001b[0mtitle\u001b[0m\u001b[0;34m(\u001b[0m\u001b[0;34m'predition visualization'\u001b[0m\u001b[0;34m)\u001b[0m\u001b[0;34m\u001b[0m\u001b[0;34m\u001b[0m\u001b[0m\n\u001b[0;32m----> 3\u001b[0;31m \u001b[0mplt\u001b[0m\u001b[0;34m.\u001b[0m\u001b[0mplot\u001b[0m\u001b[0;34m(\u001b[0m\u001b[0mpred_p\u001b[0m\u001b[0;34m,\u001b[0m \u001b[0;34m'r'\u001b[0m\u001b[0;34m,\u001b[0m \u001b[0mlabel\u001b[0m\u001b[0;34m=\u001b[0m\u001b[0;34m'prediction'\u001b[0m\u001b[0;34m)\u001b[0m\u001b[0;34m\u001b[0m\u001b[0;34m\u001b[0m\u001b[0m\n\u001b[0m\u001b[1;32m      4\u001b[0m \u001b[0mplt\u001b[0m\u001b[0;34m.\u001b[0m\u001b[0mplot\u001b[0m\u001b[0;34m(\u001b[0m\u001b[0mreal_p\u001b[0m\u001b[0;34m,\u001b[0m \u001b[0;34m'b'\u001b[0m\u001b[0;34m,\u001b[0m \u001b[0mlabel\u001b[0m\u001b[0;34m=\u001b[0m\u001b[0;34m'real'\u001b[0m\u001b[0;34m)\u001b[0m\u001b[0;34m\u001b[0m\u001b[0;34m\u001b[0m\u001b[0m\n\u001b[1;32m      5\u001b[0m \u001b[0mplt\u001b[0m\u001b[0;34m.\u001b[0m\u001b[0mlegend\u001b[0m\u001b[0;34m(\u001b[0m\u001b[0mloc\u001b[0m\u001b[0;34m=\u001b[0m\u001b[0;34m'best'\u001b[0m\u001b[0;34m)\u001b[0m\u001b[0;34m\u001b[0m\u001b[0;34m\u001b[0m\u001b[0m\n",
      "\u001b[0;32m/usr/local/lib/python3.6/dist-packages/matplotlib/pyplot.py\u001b[0m in \u001b[0;36mplot\u001b[0;34m(scalex, scaley, data, *args, **kwargs)\u001b[0m\n\u001b[1;32m   2840\u001b[0m     return gca().plot(\n\u001b[1;32m   2841\u001b[0m         \u001b[0;34m*\u001b[0m\u001b[0margs\u001b[0m\u001b[0;34m,\u001b[0m \u001b[0mscalex\u001b[0m\u001b[0;34m=\u001b[0m\u001b[0mscalex\u001b[0m\u001b[0;34m,\u001b[0m \u001b[0mscaley\u001b[0m\u001b[0;34m=\u001b[0m\u001b[0mscaley\u001b[0m\u001b[0;34m,\u001b[0m\u001b[0;34m\u001b[0m\u001b[0;34m\u001b[0m\u001b[0m\n\u001b[0;32m-> 2842\u001b[0;31m         **({\"data\": data} if data is not None else {}), **kwargs)\n\u001b[0m\u001b[1;32m   2843\u001b[0m \u001b[0;34m\u001b[0m\u001b[0m\n\u001b[1;32m   2844\u001b[0m \u001b[0;34m\u001b[0m\u001b[0m\n",
      "\u001b[0;32m/usr/local/lib/python3.6/dist-packages/matplotlib/axes/_axes.py\u001b[0m in \u001b[0;36mplot\u001b[0;34m(self, scalex, scaley, data, *args, **kwargs)\u001b[0m\n\u001b[1;32m   1741\u001b[0m         \"\"\"\n\u001b[1;32m   1742\u001b[0m         \u001b[0mkwargs\u001b[0m \u001b[0;34m=\u001b[0m \u001b[0mcbook\u001b[0m\u001b[0;34m.\u001b[0m\u001b[0mnormalize_kwargs\u001b[0m\u001b[0;34m(\u001b[0m\u001b[0mkwargs\u001b[0m\u001b[0;34m,\u001b[0m \u001b[0mmlines\u001b[0m\u001b[0;34m.\u001b[0m\u001b[0mLine2D\u001b[0m\u001b[0;34m)\u001b[0m\u001b[0;34m\u001b[0m\u001b[0;34m\u001b[0m\u001b[0m\n\u001b[0;32m-> 1743\u001b[0;31m         \u001b[0mlines\u001b[0m \u001b[0;34m=\u001b[0m \u001b[0;34m[\u001b[0m\u001b[0;34m*\u001b[0m\u001b[0mself\u001b[0m\u001b[0;34m.\u001b[0m\u001b[0m_get_lines\u001b[0m\u001b[0;34m(\u001b[0m\u001b[0;34m*\u001b[0m\u001b[0margs\u001b[0m\u001b[0;34m,\u001b[0m \u001b[0mdata\u001b[0m\u001b[0;34m=\u001b[0m\u001b[0mdata\u001b[0m\u001b[0;34m,\u001b[0m \u001b[0;34m**\u001b[0m\u001b[0mkwargs\u001b[0m\u001b[0;34m)\u001b[0m\u001b[0;34m]\u001b[0m\u001b[0;34m\u001b[0m\u001b[0;34m\u001b[0m\u001b[0m\n\u001b[0m\u001b[1;32m   1744\u001b[0m         \u001b[0;32mfor\u001b[0m \u001b[0mline\u001b[0m \u001b[0;32min\u001b[0m \u001b[0mlines\u001b[0m\u001b[0;34m:\u001b[0m\u001b[0;34m\u001b[0m\u001b[0;34m\u001b[0m\u001b[0m\n\u001b[1;32m   1745\u001b[0m             \u001b[0mself\u001b[0m\u001b[0;34m.\u001b[0m\u001b[0madd_line\u001b[0m\u001b[0;34m(\u001b[0m\u001b[0mline\u001b[0m\u001b[0;34m)\u001b[0m\u001b[0;34m\u001b[0m\u001b[0;34m\u001b[0m\u001b[0m\n",
      "\u001b[0;32m/usr/local/lib/python3.6/dist-packages/matplotlib/axes/_base.py\u001b[0m in \u001b[0;36m__call__\u001b[0;34m(self, data, *args, **kwargs)\u001b[0m\n\u001b[1;32m    271\u001b[0m                 \u001b[0mthis\u001b[0m \u001b[0;34m+=\u001b[0m \u001b[0margs\u001b[0m\u001b[0;34m[\u001b[0m\u001b[0;36m0\u001b[0m\u001b[0;34m]\u001b[0m\u001b[0;34m,\u001b[0m\u001b[0;34m\u001b[0m\u001b[0;34m\u001b[0m\u001b[0m\n\u001b[1;32m    272\u001b[0m                 \u001b[0margs\u001b[0m \u001b[0;34m=\u001b[0m \u001b[0margs\u001b[0m\u001b[0;34m[\u001b[0m\u001b[0;36m1\u001b[0m\u001b[0;34m:\u001b[0m\u001b[0;34m]\u001b[0m\u001b[0;34m\u001b[0m\u001b[0;34m\u001b[0m\u001b[0m\n\u001b[0;32m--> 273\u001b[0;31m             \u001b[0;32myield\u001b[0m \u001b[0;32mfrom\u001b[0m \u001b[0mself\u001b[0m\u001b[0;34m.\u001b[0m\u001b[0m_plot_args\u001b[0m\u001b[0;34m(\u001b[0m\u001b[0mthis\u001b[0m\u001b[0;34m,\u001b[0m \u001b[0mkwargs\u001b[0m\u001b[0;34m)\u001b[0m\u001b[0;34m\u001b[0m\u001b[0;34m\u001b[0m\u001b[0m\n\u001b[0m\u001b[1;32m    274\u001b[0m \u001b[0;34m\u001b[0m\u001b[0m\n\u001b[1;32m    275\u001b[0m     \u001b[0;32mdef\u001b[0m \u001b[0mget_next_color\u001b[0m\u001b[0;34m(\u001b[0m\u001b[0mself\u001b[0m\u001b[0;34m)\u001b[0m\u001b[0;34m:\u001b[0m\u001b[0;34m\u001b[0m\u001b[0;34m\u001b[0m\u001b[0m\n",
      "\u001b[0;32m/usr/local/lib/python3.6/dist-packages/matplotlib/axes/_base.py\u001b[0m in \u001b[0;36m_plot_args\u001b[0;34m(self, tup, kwargs)\u001b[0m\n\u001b[1;32m    400\u001b[0m                              f\"have shapes {x.shape} and {y.shape}\")\n\u001b[1;32m    401\u001b[0m         \u001b[0;32mif\u001b[0m \u001b[0mx\u001b[0m\u001b[0;34m.\u001b[0m\u001b[0mndim\u001b[0m \u001b[0;34m>\u001b[0m \u001b[0;36m2\u001b[0m \u001b[0;32mor\u001b[0m \u001b[0my\u001b[0m\u001b[0;34m.\u001b[0m\u001b[0mndim\u001b[0m \u001b[0;34m>\u001b[0m \u001b[0;36m2\u001b[0m\u001b[0;34m:\u001b[0m\u001b[0;34m\u001b[0m\u001b[0;34m\u001b[0m\u001b[0m\n\u001b[0;32m--> 402\u001b[0;31m             raise ValueError(f\"x and y can be no greater than 2-D, but have \"\n\u001b[0m\u001b[1;32m    403\u001b[0m                              f\"shapes {x.shape} and {y.shape}\")\n\u001b[1;32m    404\u001b[0m         \u001b[0;32mif\u001b[0m \u001b[0mx\u001b[0m\u001b[0;34m.\u001b[0m\u001b[0mndim\u001b[0m \u001b[0;34m==\u001b[0m \u001b[0;36m1\u001b[0m\u001b[0;34m:\u001b[0m\u001b[0;34m\u001b[0m\u001b[0;34m\u001b[0m\u001b[0m\n",
      "\u001b[0;31mValueError\u001b[0m: x and y can be no greater than 2-D, but have shapes (365,) and (365, 1, 365)"
     ]
    },
    {
     "data": {
      "image/png": "[encoded data removed]",
      "text/plain": [
       "<Figure size 1296x720 with 1 Axes>"
      ]
     },
     "metadata": {
      "needs_background": "light"
     },
     "output_type": "display_data"
    }
   ],
   "source": [
    "plt.figure(figsize=(18, 10))\n",
    "plt.title('predition visualization')\n",
    "plt.plot(pred_p, 'r', label='prediction')\n",
    "plt.plot(real_p, 'b', label='real')\n",
    "plt.legend(loc='best')"
   ]
  },
  {
   "cell_type": "code",
   "execution_count": null,
   "metadata": {},
   "outputs": [],
   "source": [
    "p = pred_p.reshape(-1, 24)\n",
    "r = real_p.reshape(-1, 24)"
   ]
  },
  {
   "cell_type": "code",
   "execution_count": null,
   "metadata": {},
   "outputs": [],
   "source": [
    "psum, rsum, pmax, rmax, pmin, rmin = [], [], [], [], [], []\n",
    "\n",
    "for i in range(p.shape[0]):\n",
    "    psum.append(sum(p[i]))\n",
    "    rsum.append(sum(r[i]))\n",
    "    \n",
    "    pmax.append(max(p[i]))\n",
    "    rmax.append(max(r[i]))\n",
    "    \n",
    "    pmin.append(min(p[i]))\n",
    "    rmin.append(min(r[i]))"
   ]
  },
  {
   "cell_type": "code",
   "execution_count": null,
   "metadata": {},
   "outputs": [],
   "source": [
    "plt.figure(figsize=(18, 10))\n",
    "plt.title('psum & rsum')\n",
    "plt.plot(psum, 'r', label='pred')\n",
    "plt.plot(rsum, 'b', label='real')\n",
    "plt.legend(loc='best')"
   ]
  },
  {
   "cell_type": "code",
   "execution_count": null,
   "metadata": {},
   "outputs": [],
   "source": [
    "plt.figure(figsize=(18, 10))\n",
    "plt.title('pmax & rmax')\n",
    "plt.plot(pmax, 'r', label='pred')\n",
    "plt.plot(rmax, 'b', label='real')\n",
    "plt.legend(loc='best')"
   ]
  },
  {
   "cell_type": "code",
   "execution_count": null,
   "metadata": {},
   "outputs": [],
   "source": [
    "plt.figure(figsize=(18, 10))\n",
    "plt.title('pmin & rmin')\n",
    "plt.plot(pmin, 'r', label='pred')\n",
    "plt.plot(rmin, 'b', label='real')\n",
    "plt.legend(loc='best')"
   ]
  },
  {
   "cell_type": "code",
   "execution_count": null,
   "metadata": {},
   "outputs": [],
   "source": [
    "sumdiff = 0\n",
    "for i in range(len(psum)):\n",
    "    sumdiff += (psum[i] - rsum[i]) ** 2\n",
    "    \n",
    "sumdiff / len(psum)"
   ]
  },
  {
   "cell_type": "code",
   "execution_count": null,
   "metadata": {},
   "outputs": [],
   "source": [
    "maxdiff = 0\n",
    "for i in range(len(pmax)):\n",
    "    maxdiff += (pmax[i] - rmax[i]) ** 2\n",
    "    \n",
    "maxdiff / len(pmax)"
   ]
  },
  {
   "cell_type": "code",
   "execution_count": null,
   "metadata": {},
   "outputs": [],
   "source": [
    "mindiff = 0\n",
    "for i in range(len(pmax)):\n",
    "    mindiff += (pmin[i] - rmin[i]) ** 2\n",
    "    \n",
    "mindiff / len(pmin)"
   ]
  },
  {
   "cell_type": "code",
   "execution_count": null,
   "metadata": {},
   "outputs": [],
   "source": []
  }
 ],
 "metadata": {
  "kernelspec": {
   "display_name": "Python 3",
   "language": "python",
   "name": "python3"
  },
  "language_info": {
   "codemirror_mode": {
    "name": "ipython",
    "version": 3
   },
   "file_extension": ".py",
   "mimetype": "text/x-python",
   "name": "python",
   "nbconvert_exporter": "python",
   "pygments_lexer": "ipython3",
   "version": "3.6.9"
  }
 },
 "nbformat": 4,
 "nbformat_minor": 4
}
